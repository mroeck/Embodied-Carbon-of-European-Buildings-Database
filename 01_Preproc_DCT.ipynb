{
 "cells": [
  {
   "cell_type": "markdown",
   "metadata": {},
   "source": [
    "# Data preprocessing script - DataCollectionForms"
   ]
  },
  {
   "cell_type": "markdown",
   "metadata": {},
   "source": [
    "Authors: [Andreas Sørensen](https://www.linkedin.com/in/a-soerensen) and [Martin Röck](https://www.linkedin.com/in/martinroeck/) - Source: https://doi.org/10.5281/zenodo.5895051"
   ]
  },
  {
   "cell_type": "code",
   "execution_count": 3,
   "metadata": {
    "ExecuteTime": {
     "end_time": "2021-06-05T16:45:10.132334Z",
     "start_time": "2021-06-05T16:45:08.244591Z"
    }
   },
   "outputs": [],
   "source": [
    "# SETUP\n",
    "import numpy as np\n",
    "import pandas as pd\n",
    "import matplotlib.pyplot as plt\n",
    "import seaborn as sns\n",
    "import time"
   ]
  },
  {
   "cell_type": "code",
   "execution_count": 4,
   "metadata": {},
   "outputs": [],
   "source": [
    "# set data frame printing settings\n",
    "pd.set_option(\"display.max_rows\", None, \"display.max_columns\", None)"
   ]
  },
  {
   "cell_type": "code",
   "execution_count": null,
   "metadata": {},
   "outputs": [],
   "source": [
    "print(\"Pre-processing DCT data...\")"
   ]
  },
  {
   "cell_type": "markdown",
   "metadata": {},
   "source": [
    "# DCT all input data"
   ]
  },
  {
   "cell_type": "code",
   "execution_count": 5,
   "metadata": {
    "ExecuteTime": {
     "end_time": "2021-06-05T16:45:11.286893Z",
     "start_time": "2021-06-05T16:45:10.155373Z"
    }
   },
   "outputs": [],
   "source": [
    "# IMPORT\n",
    "\n",
    "#File name/path\n",
    "filename = '00_data/0_data_input_raw/EU-ECB_DataCollectionForm_all_data_input.xlsx'\n",
    "\n",
    "#Load individual sheets\n",
    "df_sheet = pd.read_excel(filename, sheet_name='DataCollectionTable')"
   ]
  },
  {
   "cell_type": "code",
   "execution_count": 6,
   "metadata": {
    "ExecuteTime": {
     "end_time": "2021-06-05T16:45:11.317633Z",
     "start_time": "2021-06-05T16:45:11.288482Z"
    }
   },
   "outputs": [],
   "source": [
    "#Recreate dataframe with parameter code as header instead of first header (delete first three rows)\n",
    "#This will also assign datatypes correctly\n",
    "headers = df_sheet.iloc[2]\n",
    "df_DCT = pd.DataFrame(df_sheet.values[3:], columns=headers)"
   ]
  },
  {
   "cell_type": "code",
   "execution_count": 7,
   "metadata": {
    "ExecuteTime": {
     "end_time": "2021-06-05T16:45:11.333592Z",
     "start_time": "2021-06-05T16:45:11.319628Z"
    }
   },
   "outputs": [],
   "source": [
    "#Drop first column\n",
    "df_DCT = df_DCT.iloc[:,1:]"
   ]
  },
  {
   "cell_type": "code",
   "execution_count": 8,
   "metadata": {
    "ExecuteTime": {
     "end_time": "2021-06-05T16:45:11.410370Z",
     "start_time": "2021-06-05T16:45:11.335589Z"
    }
   },
   "outputs": [],
   "source": [
    "#Drop all rows which have only missing values (NaN)\n",
    "df_DCT.dropna(how='all',inplace=True)\n",
    "#Fill NaN entries with n/a for completeness\n",
    "df_DCT.fillna('n/a',inplace=True)"
   ]
  },
  {
   "cell_type": "code",
   "execution_count": 9,
   "metadata": {
    "ExecuteTime": {
     "end_time": "2021-06-05T16:45:11.426064Z",
     "start_time": "2021-06-05T16:45:11.414083Z"
    }
   },
   "outputs": [],
   "source": [
    "df_DCT_processed = df_DCT"
   ]
  },
  {
   "cell_type": "code",
   "execution_count": 10,
   "metadata": {
    "ExecuteTime": {
     "end_time": "2021-06-05T16:45:11.487860Z",
     "start_time": "2021-06-05T16:45:11.428011Z"
    }
   },
   "outputs": [],
   "source": [
    "#Create CSV\n",
    "filename = '00_data/1_data_pre_processed/DCT_processed.csv'\n",
    "df_DCT_processed.to_csv(filename, index=False)"
   ]
  },
  {
   "cell_type": "code",
   "execution_count": null,
   "metadata": {},
   "outputs": [],
   "source": [
    "print(\"DCT data pre-processed.\")"
   ]
  }
 ],
 "metadata": {
  "hide_input": false,
  "kernelspec": {
   "display_name": "Python 3",
   "language": "python",
   "name": "python3"
  },
  "language_info": {
   "codemirror_mode": {
    "name": "ipython",
    "version": 3
   },
   "file_extension": ".py",
   "mimetype": "text/x-python",
   "name": "python",
   "nbconvert_exporter": "python",
   "pygments_lexer": "ipython3",
   "version": "3.8.8"
  },
  "toc": {
   "base_numbering": 1,
   "nav_menu": {},
   "number_sections": true,
   "sideBar": true,
   "skip_h1_title": false,
   "title_cell": "Table of Contents",
   "title_sidebar": "Contents",
   "toc_cell": false,
   "toc_position": {},
   "toc_section_display": true,
   "toc_window_display": false
  },
  "varInspector": {
   "cols": {
    "lenName": 16,
    "lenType": 16,
    "lenVar": 40
   },
   "kernels_config": {
    "python": {
     "delete_cmd_postfix": "",
     "delete_cmd_prefix": "del ",
     "library": "var_list.py",
     "varRefreshCmd": "print(var_dic_list())"
    },
    "r": {
     "delete_cmd_postfix": ") ",
     "delete_cmd_prefix": "rm(",
     "library": "var_list.r",
     "varRefreshCmd": "cat(var_dic_list()) "
    }
   },
   "position": {
    "height": "265px",
    "left": "1491.82px",
    "right": "20px",
    "top": "116px",
    "width": "351px"
   },
   "types_to_exclude": [
    "module",
    "function",
    "builtin_function_or_method",
    "instance",
    "_Feature"
   ],
   "window_display": false
  }
 },
 "nbformat": 4,
 "nbformat_minor": 2
}
